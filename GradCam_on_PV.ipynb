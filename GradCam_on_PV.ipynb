{
  "nbformat": 4,
  "nbformat_minor": 0,
  "metadata": {
    "colab": {
      "provenance": [],
      "gpuType": "T4",
      "authorship_tag": "ABX9TyMJS0y4LvtUHfrauo5+jT38",
      "include_colab_link": true
    },
    "kernelspec": {
      "name": "python3",
      "display_name": "Python 3"
    },
    "language_info": {
      "name": "python"
    },
    "accelerator": "GPU"
  },
  "cells": [
    {
      "cell_type": "markdown",
      "metadata": {
        "id": "view-in-github",
        "colab_type": "text"
      },
      "source": [
        "<a href=\"https://colab.research.google.com/github/sway-am/interpretability_PV_detection/blob/main/GradCam_on_PV.ipynb\" target=\"_parent\"><img src=\"https://colab.research.google.com/assets/colab-badge.svg\" alt=\"Open In Colab\"/></a>"
      ]
    },
    {
      "cell_type": "code",
      "execution_count": 1,
      "metadata": {
        "colab": {
          "base_uri": "https://localhost:8080/"
        },
        "id": "PncDvYCPUke6",
        "outputId": "f9bb421b-5cac-4d36-b213-47c4d7950d9d"
      },
      "outputs": [
        {
          "output_type": "stream",
          "name": "stdout",
          "text": [
            "Mounted at /content/gdrive\n"
          ]
        }
      ],
      "source": [
        "from google.colab import drive\n",
        "drive.mount('/content/gdrive')"
      ]
    },
    {
      "cell_type": "code",
      "source": [
        "! ls"
      ],
      "metadata": {
        "colab": {
          "base_uri": "https://localhost:8080/"
        },
        "id": "O8cKdFx9UwE3",
        "outputId": "d4bf6367-99c0-485c-d4ef-878bd0afbf37"
      },
      "execution_count": 2,
      "outputs": [
        {
          "output_type": "stream",
          "name": "stdout",
          "text": [
            "gdrive\tsample_data\n"
          ]
        }
      ]
    },
    {
      "cell_type": "code",
      "source": [
        "%cd /content/gdrive/MyDrive/project_folder2"
      ],
      "metadata": {
        "colab": {
          "base_uri": "https://localhost:8080/"
        },
        "id": "-2WIR8Az-Ej0",
        "outputId": "5e3b6a63-a844-43d9-a848-f406397e3145"
      },
      "execution_count": 5,
      "outputs": [
        {
          "output_type": "stream",
          "name": "stdout",
          "text": [
            "/content/gdrive/MyDrive/project_folder2\n"
          ]
        }
      ]
    },
    {
      "cell_type": "code",
      "source": [
        "! git clone https://github.com/zae-bayern/elpv-dataset.git"
      ],
      "metadata": {
        "colab": {
          "base_uri": "https://localhost:8080/"
        },
        "id": "tzqFEUEj_p4d",
        "outputId": "ddb22fd4-62cd-4a00-f5c1-95a5472ec301"
      },
      "execution_count": 10,
      "outputs": [
        {
          "output_type": "stream",
          "name": "stdout",
          "text": [
            "Cloning into 'elpv-dataset'...\n",
            "remote: Enumerating objects: 2695, done.\u001b[K\n",
            "remote: Counting objects: 100% (4/4), done.\u001b[K\n",
            "remote: Compressing objects: 100% (3/3), done.\u001b[K\n",
            "remote: Total 2695 (delta 2), reused 1 (delta 1), pack-reused 2691\u001b[K\n",
            "Receiving objects: 100% (2695/2695), 90.79 MiB | 21.15 MiB/s, done.\n",
            "Resolving deltas: 100% (33/33), done.\n",
            "Updating files: 100% (2629/2629), done.\n"
          ]
        }
      ]
    },
    {
      "cell_type": "code",
      "source": [
        "#code copied from the utils file\n",
        "from PIL import Image\n",
        "import numpy as np\n",
        "import os\n",
        "\n",
        "\n",
        "def load_dataset(fname=None):\n",
        "    if fname is None:\n",
        "        # Assume we are in the utils folder and get the absolute path to the\n",
        "        # parent directory.\n",
        "        __file__ = '/content/gdrive/MyDrive/project_folder2/elpv-dataset/doc'\n",
        "        fname = os.path.abspath(os.path.join(__file__,\n",
        "                                             os.path.pardir))\n",
        "        fname = os.path.join(fname, 'labels.csv')\n",
        "\n",
        "    data = np.genfromtxt(fname, dtype=['|S19', '<f8', '|S4'], names=[\n",
        "                         'path', 'probability', 'type'])\n",
        "    image_fnames = np.char.decode(data['path'])\n",
        "    probs = data['probability']\n",
        "    types = np.char.decode(data['type'])\n",
        "\n",
        "    def load_cell_image(fname):\n",
        "        with Image.open(fname) as image:\n",
        "            return np.asarray(image)\n",
        "\n",
        "    dir = os.path.dirname(fname)\n",
        "\n",
        "    images = np.array([load_cell_image(os.path.join(dir, fn))\n",
        "                       for fn in image_fnames])\n",
        "\n",
        "    return images, probs, types"
      ],
      "metadata": {
        "id": "y0qSpC0x-IpQ"
      },
      "execution_count": 11,
      "outputs": []
    },
    {
      "cell_type": "code",
      "source": [
        "images, proba, types = load_dataset()"
      ],
      "metadata": {
        "id": "6hLHeOS6-Pa2"
      },
      "execution_count": 12,
      "outputs": []
    },
    {
      "cell_type": "code",
      "source": [
        "import cv2\n",
        "import numpy as np\n",
        "\n",
        "\n",
        "\n",
        "# Create an empty numpy array to store the resized images\n",
        "resized_images = np.empty((2624, 120, 120))\n",
        "\n",
        "# Loop through each image in the 'images' array and resize it\n",
        "for i in range(images.shape[0]):\n",
        "    # Resize the image using OpenCV\n",
        "    resized_image = cv2.resize(images[i], (120, 120))\n",
        "\n",
        "    # Store the resized image in the new array\n",
        "    resized_images[i] = resized_image\n",
        "\n",
        "del images\n",
        "\n",
        "images = resized_images\n"
      ],
      "metadata": {
        "id": "IiRuwm7Y-Q3w"
      },
      "execution_count": 13,
      "outputs": []
    },
    {
      "cell_type": "code",
      "source": [
        "new_types = []\n",
        "for i in range(types.shape[0]):\n",
        "  if types[i] == \"mono\":\n",
        "    new_types.append(0)\n",
        "  else:\n",
        "    new_types.append(1)"
      ],
      "metadata": {
        "id": "B16Z6kSrE_b9"
      },
      "execution_count": 14,
      "outputs": []
    },
    {
      "cell_type": "code",
      "source": [
        "new_types =np.array(new_types)"
      ],
      "metadata": {
        "id": "CugwVf35FTvH"
      },
      "execution_count": 15,
      "outputs": []
    },
    {
      "cell_type": "code",
      "source": [
        "types = new_types\n",
        "types"
      ],
      "metadata": {
        "colab": {
          "base_uri": "https://localhost:8080/"
        },
        "id": "Hc8B5mrSEjx8",
        "outputId": "6429e648-0cd8-4390-eedc-0ccd6f0a1a82"
      },
      "execution_count": 16,
      "outputs": [
        {
          "output_type": "execute_result",
          "data": {
            "text/plain": [
              "array([0, 0, 0, ..., 1, 1, 1])"
            ]
          },
          "metadata": {},
          "execution_count": 16
        }
      ]
    },
    {
      "cell_type": "code",
      "source": [
        "from sklearn.model_selection import train_test_split\n",
        "X_train, X_test, y_train, y_test = train_test_split( images, types, test_size=0.2, random_state=42)"
      ],
      "metadata": {
        "id": "htL9xK13B5bI"
      },
      "execution_count": 17,
      "outputs": []
    },
    {
      "cell_type": "code",
      "source": [
        "X_train = X_train.reshape((-1,120,120,1)).astype('float32') / 255.0\n",
        "X_test = X_test.reshape((-1,120,120,1)).astype('float32') / 255.0"
      ],
      "metadata": {
        "id": "hmurHspT9lkT"
      },
      "execution_count": 18,
      "outputs": []
    },
    {
      "cell_type": "code",
      "source": [
        "X_train.shape"
      ],
      "metadata": {
        "colab": {
          "base_uri": "https://localhost:8080/"
        },
        "id": "5Bw9eHY1BnS_",
        "outputId": "6f2e8ac6-9853-450f-8513-9db9221fec81"
      },
      "execution_count": 19,
      "outputs": [
        {
          "output_type": "execute_result",
          "data": {
            "text/plain": [
              "(2099, 120, 120, 1)"
            ]
          },
          "metadata": {},
          "execution_count": 19
        }
      ]
    },
    {
      "cell_type": "code",
      "source": [
        "import numpy as np\n",
        "def to_rgb(x):\n",
        "    x_rgb = np.zeros((x.shape[0], 120,120, 3))\n",
        "    for i in range(3):\n",
        "        x_rgb[..., i] = x[..., 0]\n",
        "    return x_rgb\n",
        "X_train = to_rgb(X_train)\n",
        "X_test = to_rgb(X_test)"
      ],
      "metadata": {
        "id": "qDWoBgUT5O0k"
      },
      "execution_count": 26,
      "outputs": []
    },
    {
      "cell_type": "code",
      "source": [
        "X_train.shape"
      ],
      "metadata": {
        "colab": {
          "base_uri": "https://localhost:8080/"
        },
        "id": "Flouk1VE5O27",
        "outputId": "7a0b7e51-2a0d-4bbd-cd60-575a4c02dde9"
      },
      "execution_count": 27,
      "outputs": [
        {
          "output_type": "execute_result",
          "data": {
            "text/plain": [
              "(2099, 120, 120, 3)"
            ]
          },
          "metadata": {},
          "execution_count": 27
        }
      ]
    },
    {
      "cell_type": "code",
      "source": [
        "from keras.models import Sequential\n",
        "from keras.layers import Dense, Conv2D , MaxPool2D , Flatten , Dropout , BatchNormalization"
      ],
      "metadata": {
        "id": "YKccDL2t5O8O"
      },
      "execution_count": 28,
      "outputs": []
    },
    {
      "cell_type": "code",
      "source": [
        "model = Sequential()\n",
        "\n",
        "model.add(Conv2D(16 , (3,3) , strides = 1 , padding = 'same' , activation = 'relu' , input_shape = (120,120,3)))\n",
        "#model.add(BatchNormalization())\n",
        "model.add(MaxPool2D((2,2) , strides = 2 , padding = 'same'))\n",
        "\n",
        "model.add(Conv2D(16 , (3,3) , strides = 1 , padding = 'same' , activation = 'relu' , input_shape = (120,120,3)))\n",
        "#model.add(BatchNormalization())\n",
        "model.add(MaxPool2D((2,2) , strides = 2 , padding = 'same'))\n",
        "\n",
        "model.add(Conv2D(32 , (3,3) , strides = 1 , padding = 'same' , activation = 'relu'))\n",
        "#model.add(BatchNormalization())\n",
        "model.add(MaxPool2D((2,2) , strides = 2 , padding = 'same'))\n",
        "\n",
        "# model.add(Conv2D(64 , (3,3) , strides = 1 , padding = 'same' , activation = 'relu'))\n",
        "# model.add(BatchNormalization())\n",
        "# model.add(MaxPool2D((2,2) , strides = 2 , padding = 'same'))\n",
        "\n",
        "# model.add(Conv2D(256 , (3,3) , strides = 1 , padding = 'same' , activation = 'relu'))\n",
        "# model.add(BatchNormalization())\n",
        "# model.add(MaxPool2D((2,2) , strides = 2 , padding = 'same'))\n",
        "\n",
        "\n",
        "model.add(Flatten())\n",
        "model.add(Dense(units = 16 , activation = 'relu'))\n",
        "model.add(Dropout(0.5))\n",
        "model.add(Dense(1 , activation = 'sigmoid'))\n",
        "model.summary()"
      ],
      "metadata": {
        "colab": {
          "base_uri": "https://localhost:8080/"
        },
        "id": "9pCGVcRp5O-h",
        "outputId": "21d860c4-ce41-4c84-daea-b10ca95b68ae"
      },
      "execution_count": 35,
      "outputs": [
        {
          "output_type": "stream",
          "name": "stdout",
          "text": [
            "Model: \"sequential_2\"\n",
            "_________________________________________________________________\n",
            " Layer (type)                Output Shape              Param #   \n",
            "=================================================================\n",
            " conv2d_6 (Conv2D)           (None, 120, 120, 16)      448       \n",
            "                                                                 \n",
            " max_pooling2d_6 (MaxPoolin  (None, 60, 60, 16)        0         \n",
            " g2D)                                                            \n",
            "                                                                 \n",
            " conv2d_7 (Conv2D)           (None, 60, 60, 16)        2320      \n",
            "                                                                 \n",
            " max_pooling2d_7 (MaxPoolin  (None, 30, 30, 16)        0         \n",
            " g2D)                                                            \n",
            "                                                                 \n",
            " conv2d_8 (Conv2D)           (None, 30, 30, 32)        4640      \n",
            "                                                                 \n",
            " max_pooling2d_8 (MaxPoolin  (None, 15, 15, 32)        0         \n",
            " g2D)                                                            \n",
            "                                                                 \n",
            " flatten_2 (Flatten)         (None, 7200)              0         \n",
            "                                                                 \n",
            " dense_4 (Dense)             (None, 16)                115216    \n",
            "                                                                 \n",
            " dropout_2 (Dropout)         (None, 16)                0         \n",
            "                                                                 \n",
            " dense_5 (Dense)             (None, 1)                 17        \n",
            "                                                                 \n",
            "=================================================================\n",
            "Total params: 122641 (479.07 KB)\n",
            "Trainable params: 122641 (479.07 KB)\n",
            "Non-trainable params: 0 (0.00 Byte)\n",
            "_________________________________________________________________\n"
          ]
        }
      ]
    },
    {
      "cell_type": "code",
      "source": [
        "# Compile the model\n",
        "from tensorflow.keras.optimizers import Adam\n",
        "model.compile(optimizer='Adam' , loss = 'binary_crossentropy' , metrics = ['accuracy'])"
      ],
      "metadata": {
        "id": "U-UT0f58-E-p"
      },
      "execution_count": 36,
      "outputs": []
    },
    {
      "cell_type": "code",
      "source": [
        "history = model.fit(X_train,y_train, batch_size = 16 ,epochs = 10 ,validation_data = (X_test, y_test))"
      ],
      "metadata": {
        "colab": {
          "base_uri": "https://localhost:8080/"
        },
        "id": "CMY7PSnQGfYk",
        "outputId": "b6c88874-ff04-4873-c87f-659fc0d637d4"
      },
      "execution_count": 37,
      "outputs": [
        {
          "output_type": "stream",
          "name": "stdout",
          "text": [
            "Epoch 1/10\n",
            "132/132 [==============================] - 4s 15ms/step - loss: 0.5262 - accuracy: 0.6975 - val_loss: 0.2256 - val_accuracy: 0.9829\n",
            "Epoch 2/10\n",
            "132/132 [==============================] - 1s 9ms/step - loss: 0.2142 - accuracy: 0.9628 - val_loss: 0.0804 - val_accuracy: 0.9905\n",
            "Epoch 3/10\n",
            "132/132 [==============================] - 1s 7ms/step - loss: 0.1409 - accuracy: 0.9890 - val_loss: 0.0466 - val_accuracy: 0.9981\n",
            "Epoch 4/10\n",
            "132/132 [==============================] - 1s 6ms/step - loss: 0.1237 - accuracy: 0.9976 - val_loss: 0.0181 - val_accuracy: 0.9981\n",
            "Epoch 5/10\n",
            "132/132 [==============================] - 1s 7ms/step - loss: 0.1115 - accuracy: 0.9981 - val_loss: 0.0099 - val_accuracy: 1.0000\n",
            "Epoch 6/10\n",
            "132/132 [==============================] - 1s 7ms/step - loss: 0.1098 - accuracy: 0.9976 - val_loss: 0.0137 - val_accuracy: 1.0000\n",
            "Epoch 7/10\n",
            "132/132 [==============================] - 1s 7ms/step - loss: 0.0989 - accuracy: 0.9995 - val_loss: 0.0067 - val_accuracy: 1.0000\n",
            "Epoch 8/10\n",
            "132/132 [==============================] - 1s 7ms/step - loss: 0.0863 - accuracy: 1.0000 - val_loss: 0.0070 - val_accuracy: 1.0000\n",
            "Epoch 9/10\n",
            "132/132 [==============================] - 1s 7ms/step - loss: 0.0830 - accuracy: 0.9976 - val_loss: 0.0101 - val_accuracy: 0.9981\n",
            "Epoch 10/10\n",
            "132/132 [==============================] - 1s 7ms/step - loss: 0.0755 - accuracy: 0.9990 - val_loss: 0.0046 - val_accuracy: 1.0000\n"
          ]
        }
      ]
    },
    {
      "cell_type": "code",
      "source": [
        "predictions = model.predict(X_test)\n",
        "predictions = (predictions > 0.5).astype(int)\n",
        "predictions = predictions.reshape(1, -1)[0]"
      ],
      "metadata": {
        "colab": {
          "base_uri": "https://localhost:8080/"
        },
        "id": "liMfNBDwDG09",
        "outputId": "2600376c-d9f5-47d7-e5ac-33df19fcb9a3"
      },
      "execution_count": 38,
      "outputs": [
        {
          "output_type": "stream",
          "name": "stdout",
          "text": [
            "17/17 [==============================] - 0s 5ms/step\n"
          ]
        }
      ]
    },
    {
      "cell_type": "code",
      "source": [
        "from sklearn.metrics import classification_report,confusion_matrix\n",
        "print(classification_report(y_test, predictions, target_names = ['mono','poly']))"
      ],
      "metadata": {
        "colab": {
          "base_uri": "https://localhost:8080/"
        },
        "id": "j7Jbhe0FCv6A",
        "outputId": "eaf68aa7-8e4a-4501-f7bf-ab1ea213f950"
      },
      "execution_count": 39,
      "outputs": [
        {
          "output_type": "stream",
          "name": "stdout",
          "text": [
            "              precision    recall  f1-score   support\n",
            "\n",
            "        mono       1.00      1.00      1.00       216\n",
            "        poly       1.00      1.00      1.00       309\n",
            "\n",
            "    accuracy                           1.00       525\n",
            "   macro avg       1.00      1.00      1.00       525\n",
            "weighted avg       1.00      1.00      1.00       525\n",
            "\n"
          ]
        }
      ]
    },
    {
      "cell_type": "code",
      "source": [
        "from tensorflow.keras.models import Model\n",
        "import cv2\n",
        "\n",
        "\n",
        "def GradCam(model, img_array, layer_name, eps=1e-8):\n",
        "    '''\n",
        "    Creates a grad-cam heatmap given a model and a layer name contained with that model\n",
        "\n",
        "\n",
        "    Args:\n",
        "      model: tf model\n",
        "      img_array: (img_width x img_width) numpy array\n",
        "      layer_name: str\n",
        "\n",
        "\n",
        "    Returns\n",
        "      uint8 numpy array with shape (img_height, img_width)\n",
        "\n",
        "    '''\n",
        "\n",
        "    gradModel = Model(\n",
        "\t\t\tinputs=[model.inputs],\n",
        "\t\t\toutputs=[model.get_layer(layer_name).output,\n",
        "\t\t\t\tmodel.output])\n",
        "\n",
        "    with tf.GradientTape() as tape:\n",
        "\t\t\t# cast the image tensor to a float-32 data type, pass the\n",
        "\t\t\t# image through the gradient model, and grab the loss\n",
        "\t\t\t# associated with the specific class index\n",
        "      inputs = tf.cast(img_array, tf.float32)\n",
        "      (convOutputs, predictions) = gradModel(inputs)\n",
        "      loss = predictions[:, 0]\n",
        "\t\t# use automatic differentiation to compute the gradients\n",
        "    grads = tape.gradient(loss, convOutputs)\n",
        "\n",
        "    # compute the guided gradients\n",
        "    castConvOutputs = tf.cast(convOutputs > 0, \"float32\")\n",
        "    castGrads = tf.cast(grads > 0, \"float32\")\n",
        "    guidedGrads = castConvOutputs * castGrads * grads\n",
        "\t\t# the convolution and guided gradients have a batch dimension\n",
        "\t\t# (which we don't need) so let's grab the volume itself and\n",
        "\t\t# discard the batch\n",
        "    convOutputs = convOutputs[0]\n",
        "    guidedGrads = guidedGrads[0]\n",
        "    # compute the average of the gradient values, and using them\n",
        "\t\t# as weights, compute the ponderation of the filters with\n",
        "\t\t# respect to the weights\n",
        "    weights = tf.reduce_mean(guidedGrads, axis=(0, 1))\n",
        "    cam = tf.reduce_sum(tf.multiply(weights, convOutputs), axis=-1)\n",
        "\n",
        "    # grab the spatial dimensions of the input image and resize\n",
        "\t\t# the output class activation map to match the input image\n",
        "\t\t# dimensions\n",
        "    (w, h) = (img_array.shape[2], img_array.shape[1])\n",
        "    heatmap = cv2.resize(cam.numpy(), (w, h))\n",
        "\t\t# normalize the heatmap such that all values lie in the range\n",
        "\t\t# [0, 1], scale the resulting values to the range [0, 255],\n",
        "\t\t# and then convert to an unsigned 8-bit integer\n",
        "    numer = heatmap - np.min(heatmap)\n",
        "    denom = (heatmap.max() - heatmap.min()) + eps\n",
        "    heatmap = numer / denom\n",
        "    # heatmap = (heatmap * 255).astype(\"uint8\")\n",
        "\t\t# return the resulting heatmap to the calling function\n",
        "    return heatmap\n"
      ],
      "metadata": {
        "id": "vIr95chZVoJw"
      },
      "execution_count": 40,
      "outputs": []
    },
    {
      "cell_type": "code",
      "source": [
        "\n",
        "def sigmoid(x, a, b, c):\n",
        "    return c / (1 + np.exp(-a * (x-b)))\n",
        "\n",
        "def superimpose(img_bgr, cam, thresh, emphasize=False):\n",
        "\n",
        "    '''\n",
        "    Superimposes a grad-cam heatmap onto an image for model interpretation and visualization.\n",
        "\n",
        "\n",
        "    Args:\n",
        "      image: (img_width x img_height x 3) numpy array\n",
        "      grad-cam heatmap: (img_width x img_width) numpy array\n",
        "      threshold: float\n",
        "      emphasize: boolean\n",
        "\n",
        "    Returns\n",
        "      uint8 numpy array with shape (img_height, img_width, 3)\n",
        "\n",
        "    '''\n",
        "    heatmap = cv2.resize(cam, (img_bgr.shape[1], img_bgr.shape[0]))\n",
        "    if emphasize:\n",
        "        heatmap = sigmoid(heatmap, 50, thresh, 1)\n",
        "    heatmap = np.uint8(255 * heatmap)\n",
        "    heatmap = cv2.applyColorMap(heatmap, cv2.COLORMAP_JET)\n",
        "\n",
        "    hif = .8\n",
        "    superimposed_img = heatmap * hif + img_bgr\n",
        "    superimposed_img = np.minimum(superimposed_img, 255.0).astype(np.uint8)  # scale 0 to 255\n",
        "    superimposed_img_rgb = cv2.cvtColor(superimposed_img, cv2.COLOR_BGR2RGB)\n",
        "\n",
        "    return superimposed_img_rgb"
      ],
      "metadata": {
        "id": "DKsIOaowWU0W"
      },
      "execution_count": 41,
      "outputs": []
    },
    {
      "cell_type": "code",
      "source": [
        "import tensorflow as tf\n",
        "import matplotlib.pyplot as plt\n",
        "from google.colab.patches import cv2_imshow"
      ],
      "metadata": {
        "id": "OzvPlGcZW8U6"
      },
      "execution_count": 56,
      "outputs": []
    },
    {
      "cell_type": "code",
      "source": [
        "## Grad-CAM heatmap for the last convolutional layer in the model, conv2d_8\n",
        "\n",
        "i = 60\n",
        "img = X_train[i]\n",
        "layer_name = 'conv2d_8'\n",
        "grad_cam=GradCam(model,np.expand_dims(img, axis=0),layer_name)\n",
        "grad_cam_superimposed = superimpose(img, grad_cam, 0.5, emphasize=False)\n",
        "\n",
        "\n",
        "\n",
        "\n",
        "plt.imshow(grad_cam_superimposed)\n",
        "plt.axis('off')\n",
        "plt.title('conv2d_8 Grad-CAM heat-map')\n",
        "\n",
        "\n"
      ],
      "metadata": {
        "colab": {
          "base_uri": "https://localhost:8080/",
          "height": 445
        },
        "id": "4NKcWmw5WYCF",
        "outputId": "b9241f95-f37f-42ae-cdec-f0c0d06ae6df"
      },
      "execution_count": 57,
      "outputs": [
        {
          "output_type": "execute_result",
          "data": {
            "text/plain": [
              "Text(0.5, 1.0, 'conv2d_8 Grad-CAM heat-map')"
            ]
          },
          "metadata": {},
          "execution_count": 57
        },
        {
          "output_type": "display_data",
          "data": {
            "text/plain": [
              "<Figure size 640x480 with 1 Axes>"
            ],
            "image/png": "[encoded data removed]"
          },
          "metadata": {}
        }
      ]
    },
    {
      "cell_type": "code",
      "source": [
        "## Grad-CAM heatmap for the last convolutional layer in the model, max_pooling2d_8\n",
        "\n",
        "i = 59\n",
        "img = X_train[i]\n",
        "layer_name = 'max_pooling2d_8'\n",
        "grad_cam=GradCam(model,np.expand_dims(img, axis=0),layer_name)\n",
        "grad_cam_superimposed = superimpose(img, grad_cam, 0.5, emphasize=False)\n",
        "\n",
        "\n",
        "\n",
        "\n",
        "plt.imshow(grad_cam_superimposed)\n",
        "plt.axis('off')\n",
        "plt.title('max_pooling2d_8 Grad-CAM heat-map')\n",
        "\n",
        "\n"
      ],
      "metadata": {
        "colab": {
          "base_uri": "https://localhost:8080/",
          "height": 445
        },
        "id": "FSiC3HCLWm82",
        "outputId": "a0f04438-0094-42bc-fc64-72d348049d0c"
      },
      "execution_count": 65,
      "outputs": [
        {
          "output_type": "execute_result",
          "data": {
            "text/plain": [
              "Text(0.5, 1.0, 'max_pooling2d_8 Grad-CAM heat-map')"
            ]
          },
          "metadata": {},
          "execution_count": 65
        },
        {
          "output_type": "display_data",
          "data": {
            "text/plain": [
              "<Figure size 640x480 with 1 Axes>"
            ],
            "image/png": "[encoded data removed]"
          },
          "metadata": {}
        }
      ]
    },
    {
      "cell_type": "code",
      "source": [
        "## Grad-CAM heatmap for the last convolutional layer in the model, max_pooling2d_8\n",
        "\n",
        "i = 10\n",
        "img = X_train[i]\n",
        "layer_name = 'max_pooling2d_8'\n",
        "grad_cam=GradCam(model,np.expand_dims(img, axis=0),layer_name)\n",
        "grad_cam_superimposed = superimpose(img, grad_cam, 0.5, emphasize=False)\n",
        "\n",
        "\n",
        "\n",
        "\n",
        "plt.imshow(grad_cam_superimposed)\n",
        "plt.axis('off')\n",
        "plt.title('max_pooling2d_8 Grad-CAM heat-map')\n",
        "\n"
      ],
      "metadata": {
        "colab": {
          "base_uri": "https://localhost:8080/",
          "height": 445
        },
        "id": "CPHQCUznXiMS",
        "outputId": "9e368b4c-2cc4-49f7-c21e-3a405c4573d2"
      },
      "execution_count": 66,
      "outputs": [
        {
          "output_type": "execute_result",
          "data": {
            "text/plain": [
              "Text(0.5, 1.0, 'max_pooling2d_8 Grad-CAM heat-map')"
            ]
          },
          "metadata": {},
          "execution_count": 66
        },
        {
          "output_type": "display_data",
          "data": {
            "text/plain": [
              "<Figure size 640x480 with 1 Axes>"
            ],
            "image/png": "[encoded data removed]"
          },
          "metadata": {}
        }
      ]
    },
    {
      "cell_type": "code",
      "source": [
        "## Grad-CAM heatmap for the last convolutional layer in the model, max_pooling2d_8\n",
        "\n",
        "i = 2\n",
        "img = X_train[i]\n",
        "layer_name = 'max_pooling2d_8'\n",
        "grad_cam=GradCam(model,np.expand_dims(img, axis=0),layer_name)\n",
        "grad_cam_superimposed = superimpose(img, grad_cam, 0.5, emphasize=False)\n",
        "\n",
        "\n",
        "\n",
        "\n",
        "plt.imshow(grad_cam_superimposed)\n",
        "plt.axis('off')\n",
        "plt.title('max_pooling2d_8 Grad-CAM heat-map')\n",
        "\n"
      ],
      "metadata": {
        "colab": {
          "base_uri": "https://localhost:8080/",
          "height": 445
        },
        "id": "8jlPyR7xX9t3",
        "outputId": "a2478e41-0dc5-4314-8745-3c0f9944c3ba"
      },
      "execution_count": 68,
      "outputs": [
        {
          "output_type": "execute_result",
          "data": {
            "text/plain": [
              "Text(0.5, 1.0, 'max_pooling2d_8 Grad-CAM heat-map')"
            ]
          },
          "metadata": {},
          "execution_count": 68
        },
        {
          "output_type": "display_data",
          "data": {
            "text/plain": [
              "<Figure size 640x480 with 1 Axes>"
            ],
            "image/png": "[encoded data removed]"
          },
          "metadata": {}
        }
      ]
    },
    {
      "cell_type": "code",
      "source": [
        "## Grad-CAM heatmap for the last convolutional layer in the model, max_pooling2d_8\n",
        "\n",
        "i = 3\n",
        "img = X_test[i]\n",
        "layer_name = 'max_pooling2d_8'\n",
        "grad_cam=GradCam(model,np.expand_dims(img, axis=0),layer_name)\n",
        "grad_cam_superimposed = superimpose(img, grad_cam, 0.5, emphasize=False)\n",
        "\n",
        "\n",
        "\n",
        "\n",
        "plt.imshow(grad_cam_superimposed)\n",
        "plt.axis('off')\n",
        "plt.title('max_pooling2d_8 Grad-CAM heat-map')\n",
        "\n"
      ],
      "metadata": {
        "colab": {
          "base_uri": "https://localhost:8080/",
          "height": 445
        },
        "id": "foLXWTiPY4jf",
        "outputId": "47a018f1-7989-4f05-d4e0-1e12830ba97a"
      },
      "execution_count": 69,
      "outputs": [
        {
          "output_type": "execute_result",
          "data": {
            "text/plain": [
              "Text(0.5, 1.0, 'max_pooling2d_8 Grad-CAM heat-map')"
            ]
          },
          "metadata": {},
          "execution_count": 69
        },
        {
          "output_type": "display_data",
          "data": {
            "text/plain": [
              "<Figure size 640x480 with 1 Axes>"
            ],
            "image/png": "[encoded data removed]"
          },
          "metadata": {}
        }
      ]
    },
    {
      "cell_type": "code",
      "source": [
        "## Grad-CAM heatmap for the last convolutional layer in the model, max_pooling2d_8\n",
        "\n",
        "i = 60\n",
        "img = X_train[i]\n",
        "layer_name = 'max_pooling2d_8'\n",
        "grad_cam=GradCam(model,np.expand_dims(img, axis=0),layer_name)\n",
        "grad_cam_superimposed = superimpose(img, grad_cam, 0.5, emphasize=False)\n",
        "\n",
        "\n",
        "\n",
        "\n",
        "plt.imshow(grad_cam_superimposed)\n",
        "plt.axis('off')\n",
        "plt.title('max_pooling2d_8 Grad-CAM heat-map')\n",
        "\n"
      ],
      "metadata": {
        "colab": {
          "base_uri": "https://localhost:8080/",
          "height": 445
        },
        "id": "lUv113OqZAFh",
        "outputId": "685e9af8-e737-4eee-92c4-3e46da1f398d"
      },
      "execution_count": 72,
      "outputs": [
        {
          "output_type": "execute_result",
          "data": {
            "text/plain": [
              "Text(0.5, 1.0, 'max_pooling2d_8 Grad-CAM heat-map')"
            ]
          },
          "metadata": {},
          "execution_count": 72
        },
        {
          "output_type": "display_data",
          "data": {
            "text/plain": [
              "<Figure size 640x480 with 1 Axes>"
            ],
            "image/png": "[encoded data removed]"
          },
          "metadata": {}
        }
      ]
    },
    {
      "cell_type": "code",
      "source": [],
      "metadata": {
        "id": "d2JYUcwzZC_v"
      },
      "execution_count": null,
      "outputs": []
    }
  ]
}